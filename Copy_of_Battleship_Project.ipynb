{
  "nbformat": 4,
  "nbformat_minor": 0,
  "metadata": {
    "colab": {
      "provenance": []
    },
    "kernelspec": {
      "name": "python3",
      "display_name": "Python 3"
    },
    "language_info": {
      "name": "python"
    }
  },
  "cells": [
    {
      "cell_type": "markdown",
      "source": [
        "# Battleship\n",
        "\n",
        "In this project you will be creating a digital version of the Battleship game!\n",
        "\n",
        "\n",
        "![battleshipimg.jpg](data:image/jpeg;base64,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)\n",
        "\n",
        "\n",
        "\n",
        "\n"
      ],
      "metadata": {
        "id": "KsUkg56qMqjf"
      }
    },
    {
      "cell_type": "markdown",
      "source": [
        "Battleship is a game where two players place boats on a grid and have to guess where the other player's boats are. Once all of someone's boats are guessed, that player loses.\n",
        "\n",
        "\n"
      ],
      "metadata": {
        "id": "a_CjHI8D6alU"
      }
    },
    {
      "cell_type": "markdown",
      "source": [
        "## EECS 110 Battleship Description\n",
        "\n",
        "In our version of Battleship, you will be playing against the computer. Both you and the computer will have a 5x5 grid. There will be four boats for each player. The boats are:\n",
        "\n",
        "\n",
        "*   2 units\n",
        "*   3 units\n",
        "*   3 units\n",
        "*   4 units\n",
        "\n",
        "Players can places their boats on their grid horizontally or vertically with the rule that no boats overlap and the whole boat must be on the grid, not part of it.\n",
        "\n",
        "The original rules can be found here: https://www.hasbro.com/common/instruct/battleship.pdf\n",
        "\n",
        "The grid is initially blank like so:\n",
        "```\n",
        "  1 2 3 4 5\n",
        "A| | | | | |\n",
        "B| | | | | |\n",
        "C| | | | | |\n",
        "D| | | | | |\n",
        "E| | | | | |\n",
        "\n",
        "```\n",
        "The columns are denoted by numbers 1-5 and the rows are denoted by letters A-E. If there is no boat or guess, the spot on the grid is empty (a space \" \").  Boats are denoted on your grid with \"*\". After making a guess, if the guess is a hit, the space should be marked with the letter \"X\". If it is a miss, the space should be marked with the letter \"O\".\n",
        "\n",
        "The game will overall be played like this:\n",
        "\n",
        "1.   Beginning of game announcements\n",
        "2.   Each player initializes their grid with boats\n",
        "3.   Player makes a guess. (Teams of 4: Error check that guess)\n",
        "4.   Update grids with guess\n",
        "5.   Switch player\n",
        "6.   Repeat steps 3-5 until a player has won (meaning all 12 spots are hit)\n",
        "7.   Announce winner\n",
        "8.   Play games until the user wants to quit\n",
        "9.   Thank the user for playing\n",
        "\n",
        "\n",
        "\n",
        "\n",
        "\n",
        "\n",
        "\n",
        "\n",
        "\n",
        "\n",
        "\n",
        "\n",
        "\n",
        "\n"
      ],
      "metadata": {
        "id": "rVyK2VUx7Chr"
      }
    },
    {
      "cell_type": "markdown",
      "source": [
        "## Project Recommendations & Notes\n",
        "You may split this project up however you like, but we give the following recomendations:\n",
        "* Have each team member lead on a few functions, but talk through what each function does and how you want to solve it before and during the coding process.\n",
        "* We recommend you split as:\n",
        "  * Teams of 3:\n",
        "    * Teammate 1: `init_boats()` and `init_boats_random()`\n",
        "    * Teammate 2: `check_guess()` and `autoplay()`\n",
        "    * Teammate 3: `check_for_winner()` and `main()`\n",
        "  * Teams of 4:\n",
        "    * Teammate 1: `init_boats()` Darian\n",
        "    * Teammate 2: `init_boats_random()` Matthew\n",
        "    * Teammate 3: `check_guess()` and `autoplay()` chengxi Yang\n",
        "    * Teammate 4: `check_for_winner` and `main()` Ademar\n",
        "    * `init_boats()` and `init_boats_random()` are similar functions, so it could be helpful for teammate 1 and teammate 2 to work together on both\n",
        "  * Regardless of group size, we recommend pair programming for the main function in particular. Talk through the code with a team member and work together to put the main function together. Pair programming will be useful for all functions, but especially the main.\n",
        "*   Regardless of how you split it, meet often and check progress.\n",
        "  *   If you have any issues with teammates, letting us know sooner will ensure we can step in if needed.\n",
        "  *   There are parts of this project that you will struggle with testing if other parts aren't done. Meeting often will help you coordinate\n",
        "* Some parts are only required for teams of 4, however, teams of 3 may implement those functionalities if they would like. It won't impact the grade for these teams, but it will provide extra practice.\n",
        "  *  Teams of 4 must error check **all** inputs. We do not denote everywhere you must error check - it is up to you to find where to error check.\n",
        "*   Test your functions! See **Appendix D** for more details on how and why you should test functions.\n",
        "*   If you struggle with your portion, don't be afraid to ask for help. Both instructors are happy to help, though we won't do the project for you.\n",
        "*   You are welcome to make any helper functions you'd like\n",
        "*   Write your plan for your function in pseudocode before beginning to write actual code.\n",
        "*   It is helpful and recommended that you add `print()` statements, so that the game can be understood (ie. `print(\"What is your guess?\")`)\n",
        "*   You should also display the appropriate boards at the appropriate times in your `main()` function.\n",
        "*   **Please leave comments on your code (they are worth points) and also fill out the docstrings (`\"\"\"  \"\"\"`) for each function. Thes will be worth points!**\n",
        "* Start early! Often times waiting until the last minute puts both you and your group at a disadvantage. It's better to start early, so you have to time to make mistakes and fix them with help.\n",
        "\n",
        "**NOTE: If you want to use external libraries outside of those we give explicit permission for, please check with us first.**"
      ],
      "metadata": {
        "id": "3qelBXe5LWuG"
      }
    },
    {
      "cell_type": "markdown",
      "source": [
        "## Function Descriptions\n",
        "\n",
        "Each function and it's descriptions are listed below.\n",
        "\n",
        "\n",
        "* `main()`: Where the game is played. This is where you will loop through all the moves.\n",
        "  * Inputs: None\n",
        "  * Outputs: None\n",
        "* `init_boats()`: Initialize the player's boat positions. For teams of 3, the boats are always horizontal. For teams of 4, the boats can be horizontal and vertical, so get player's input on the orientation of each boat.\n",
        "  * Inputs: Player's board\n",
        "  * Outputs: None\n",
        "* `init_boats_random()`: Initialize the autoplayer's boat positions using the `random` library. Orientation rules from `init_boats()` apply here as well.\n",
        "  * Inputs: Computer's board\n",
        "  * Outputs: None\n",
        "* `autoplay()`: This function is where the computer takes its turn. The guess should be next to \"X\"s (hits) on the board. If there are no hits, the guess is random. The computer keeps guessing until a valid guess is made. Please keep in mind that you can't just look for \"*\"s here. If you do that, you will receive no points for this function.\n",
        "  * Inputs: Player's board\n",
        "  * Outputs: The computer's valid guess\n",
        "* `check_guess()`: Checks guess to see if a guess is valid - meaning it has not been guessed before and it is within the range of the board. Updates grid if valid and returns `True`. Does not update grid if invalid and returns `False`.\n",
        "  * Inputs: Board being guessed on, guess\n",
        "  * Outputs: Whether the guess is valid\n",
        "* `check_for_winner()`: Checks a board to determine if there is a winner - meaning all boats on a board are sunk. Returns `True` if winning board and `False` if not.\n",
        "  * Inputs: Board being checked\n",
        "  * Outputs: Whether board is a valid winner"
      ],
      "metadata": {
        "id": "tS1Bb1j4Ld7t"
      }
    },
    {
      "cell_type": "markdown",
      "source": [
        "# Starter Code\n",
        "\n",
        "\n",
        "\n"
      ],
      "metadata": {
        "id": "FJplVZ5FXsg2"
      }
    },
    {
      "cell_type": "markdown",
      "source": [
        "## Helper Functions\n",
        "\n",
        "The `display_board()`, `convert_to_index()`, and `validate_boat()` helper functions are provided for you in the starter code.\n",
        "\n",
        "You may write your own helper functions if you would like."
      ],
      "metadata": {
        "id": "B0yhY31OSahM"
      }
    },
    {
      "cell_type": "markdown",
      "source": [
        "### Display Function\n",
        "\n",
        "The display function allows you to display your battleship boards. The input to the functions is the list of lists for a player's board and whether the board is the player's board. The function will print the input board."
      ],
      "metadata": {
        "id": "GEUKm6fJmafg"
      }
    },
    {
      "cell_type": "code",
      "source": [
        "#display the board\n",
        "def display_board(board, player):\n",
        "  \"\"\"Displays the input board, typically the human player.\"\"\"\n",
        "  if player is False:\n",
        "    print(\"Opponents board:\")\n",
        "    print()\n",
        "  cols = [\" \", \"1\", \"2\", \"3\", \"4\", \"5\"] # confusing why is there a space on the front?\n",
        "  rows = [\" \", \"A\", \"B\", \"C\", \"D\", \"E\"]\n",
        "  for row in range(6):\n",
        "    for col in range(6):\n",
        "      if row == 0:\n",
        "        print(cols[col], end=\" \")\n",
        "      elif col == 0:\n",
        "        print(rows[row], end=\"|\")\n",
        "      else:\n",
        "        if player:\n",
        "          print(board[row - 1][col - 1], end=\"|\")\n",
        "        else:\n",
        "          if board[row - 1][col - 1] != \"*\":\n",
        "            print(board[row - 1][col - 1], end=\"|\")\n",
        "          else:\n",
        "            print(\" \", end=\"|\")\n",
        "    print()\n",
        "  print()\n",
        "  print(\"KEY: Hit = X, Miss = O, Boat = *\")\n",
        "  print()"
      ],
      "metadata": {
        "id": "cp7uRMUw7CIw"
      },
      "execution_count": null,
      "outputs": []
    },
    {
      "cell_type": "code",
      "source": [
        "# Testing display board functions\n",
        "\n",
        "# You should make sample inputs to test in your functions\n",
        "# in this case we are making boards to test in our display board function\n",
        "\n",
        "# general test cases\n",
        "print(\"TESTING EMPTY GRID CASE\")\n",
        "empty_grid =  [[\" \", \" \", \" \", \" \", \" \"],\n",
        "               [\" \", \" \", \" \", \" \", \" \"],\n",
        "               [\" \", \" \", \" \", \" \", \" \"],\n",
        "               [\" \", \" \", \" \", \" \", \" \"],\n",
        "               [\" \", \" \", \" \", \" \", \" \"]]\n",
        "               # 2D list of strings\n",
        "print(\"display_board() INPUT: empty grid\")\n",
        "# we should expect an empty grid to display an empty grid for both functions\n",
        "print(\"display_board() EXPECTED OUTPUT: empty grid, True for player board\")\n",
        "print(\"display_board() ACTUAL OUPUT:\")\n",
        "display_board(empty_grid, True)\n",
        "print()\n",
        "print(\"display_board() INPUT: empty grid, False for player board\")\n",
        "print(\"display_board() EXPECTED OUTPUT: empty grid\")\n",
        "print(\"display_board() ACTUAL OUTPUT:\")\n",
        "display_board(empty_grid, False)\n",
        "print()\n",
        "\n",
        "print(\"TESTING TYPICAL GRID CASE\")\n",
        "sample_grid = [[\" \", \"*\", \"*\", \" \", \" \"],\n",
        "               [\"X\", \"O\", \" \", \" \", \" \"],\n",
        "               [\"*\", \" \", \"X\", \"X\", \"X\"],\n",
        "               [\"*\", \" \", \" \", \" \", \" \"],\n",
        "               [\" \", \" \", \" \", \" \", \" \"]]\n",
        "# we should expect this random but possible grid to display according to the function descriptions (showing vs. not showing boats)\n",
        "print(\"display_board() INPUT: sample grid, True for player board\")\n",
        "# we should expect an empty grid to display an empty grid for both functions\n",
        "print(\"display_board() EXPECTED OUTPUT: grid should display all the input grids boats ('*') and also all the hits and misses made by the opponent\")\n",
        "print(\"display_board() ACTUAL OUPUT:\")\n",
        "display_board(sample_grid, True)\n",
        "print()\n",
        "print(\"display_board() INPUT: sample grid, False for player board\")\n",
        "print(\"display_board() EXPECTED OUTPUT: grid should display only the hits and misses made, should not be able to see where the opponents boats are\")\n",
        "print(\"display_board() ACTUAL OUTPUT:\")\n",
        "display_board(sample_grid, False)\n",
        "print()"
      ],
      "metadata": {
        "id": "3XQ3Kad0JetT",
        "colab": {
          "base_uri": "https://localhost:8080/"
        },
        "outputId": "0488c85b-b811-411b-b7fc-b0c7f3ccabc6"
      },
      "execution_count": null,
      "outputs": [
        {
          "output_type": "stream",
          "name": "stdout",
          "text": [
            "TESTING EMPTY GRID CASE\n",
            "display_board() INPUT: empty grid\n",
            "display_board() EXPECTED OUTPUT: empty grid, True for player board\n",
            "display_board() ACTUAL OUPUT:\n",
            "  1 2 3 4 5 \n",
            "A| | | | | |\n",
            "B| | | | | |\n",
            "C| | | | | |\n",
            "D| | | | | |\n",
            "E| | | | | |\n",
            "\n",
            "KEY: Hit = X, Miss = O, Boat = *\n",
            "\n",
            "\n",
            "display_board() INPUT: empty grid, False for player board\n",
            "display_board() EXPECTED OUTPUT: empty grid\n",
            "display_board() ACTUAL OUTPUT:\n",
            "Opponents board:\n",
            "\n",
            "  1 2 3 4 5 \n",
            "A| | | | | |\n",
            "B| | | | | |\n",
            "C| | | | | |\n",
            "D| | | | | |\n",
            "E| | | | | |\n",
            "\n",
            "KEY: Hit = X, Miss = O, Boat = *\n",
            "\n",
            "\n",
            "TESTING TYPICAL GRID CASE\n",
            "display_board() INPUT: sample grid, True for player board\n",
            "display_board() EXPECTED OUTPUT: grid should display all the input grids boats ('*') and also all the hits and misses made by the opponent\n",
            "display_board() ACTUAL OUPUT:\n",
            "  1 2 3 4 5 \n",
            "A| |*|*| | |\n",
            "B|X|O| | | |\n",
            "C|*| |X|X|X|\n",
            "D|*| | | | |\n",
            "E| | | | | |\n",
            "\n",
            "KEY: Hit = X, Miss = O, Boat = *\n",
            "\n",
            "\n",
            "display_board() INPUT: sample grid, False for player board\n",
            "display_board() EXPECTED OUTPUT: grid should display only the hits and misses made, should not be able to see where the opponents boats are\n",
            "display_board() ACTUAL OUTPUT:\n",
            "Opponents board:\n",
            "\n",
            "  1 2 3 4 5 \n",
            "A| | | | | |\n",
            "B|X|O| | | |\n",
            "C| | |X|X|X|\n",
            "D| | | | | |\n",
            "E| | | | | |\n",
            "\n",
            "KEY: Hit = X, Miss = O, Boat = *\n",
            "\n",
            "\n"
          ]
        }
      ]
    },
    {
      "cell_type": "markdown",
      "source": [
        "### Convert to Index Function\n",
        "\n",
        "This function takes a position and converts it to an index for the board. It will return the `row` and `col` indices."
      ],
      "metadata": {
        "id": "Y5a2VCr-HGiM"
      }
    },
    {
      "cell_type": "code",
      "source": [
        "def convert_to_index(position):\n",
        "  \"\"\"Converts input postion (ie. \"A4\") to a row and column.\"\"\"\n",
        "  alphabet_idx_conversion = {\"A\": 0, \"B\": 1, \"C\": 2, \"D\":3, \"E\":4, \"F\":5, \"G\":6, \"H\":7, \"I\":8, \"J\":9, \"K\":10, \"L\":11, \"M\":12,\n",
        "                             \"N\":13, \"O\":14, \"P\":15, \"Q\":16, \"R\":17, \"S\":18, \"T\":19, \"U\":20, \"V\":21, \"W\":22, \"X\":23, \"Y\":24, \"Z\":25}\n",
        "  row = position[0]\n",
        "  col = position[1]\n",
        "\n",
        "  row = alphabet_idx_conversion[row]\n",
        "  col = int(col) - 1\n",
        "  return row, col\n"
      ],
      "metadata": {
        "id": "s1HDf45IHc3b"
      },
      "execution_count": null,
      "outputs": []
    },
    {
      "cell_type": "markdown",
      "source": [
        "### Validate Boat Function\n",
        "\n",
        "If a valid boat position exists, this function will return `True` and the first side found that it is valid for. It will return `\"up\"`, `\"down\"`, `\"left\"`, or `\"right\"` as the side.\n",
        "\n",
        "If a valid boat position does not exist, this function will return `False` and the side returned will be `None`\n",
        "\n",
        "`horizontal` is a boolean and if it is `True` then the function should validate if the boat fits horizontally. If `False`, the function should validate if the boat fits vertically\n"
      ],
      "metadata": {
        "id": "q_rykgofEpaV"
      }
    },
    {
      "cell_type": "code",
      "source": [
        "def validate_boat(board, position, horizontal, size):\n",
        "  \"\"\"Validates a potential boat and orientation on the input board.\"\"\"\n",
        "  row, col = convert_to_index(position)\n",
        "\n",
        "  # horizontal\n",
        "  if horizontal:\n",
        "    # check to the right\n",
        "    if board[row][col:col+size] == [\" \"] * size:\n",
        "      return True, \"right\"\n",
        "\n",
        "    # check to the left\n",
        "    if board[row][col-size+1:col+1] == [\" \"] * size:\n",
        "      return True, \"left\"\n",
        "\n",
        "    return False, None\n",
        "\n",
        "  # vertical\n",
        "  else:\n",
        "    # check above\n",
        "    potential_boat = []\n",
        "    if row - size + 1 >= 0:\n",
        "      for row in range(row - size + 1, row + 1):\n",
        "        if board[row][col] == \" \":\n",
        "          potential_boat.append(\" \")\n",
        "      if potential_boat == [\" \"] * size:\n",
        "        return True, \"up\"\n",
        "\n",
        "    # check below\n",
        "    potential_boat = []\n",
        "    if row + size - 1 <= 4:\n",
        "      for row in range(row, row + size):\n",
        "        if board[row][col] == \" \":\n",
        "          potential_boat.append(\" \")\n",
        "      if potential_boat == [\" \"] * size:\n",
        "        return True, \"down\"\n",
        "\n",
        "    return False, None\n"
      ],
      "metadata": {
        "id": "o_O7o26N26NI"
      },
      "execution_count": null,
      "outputs": []
    },
    {
      "cell_type": "markdown",
      "source": [
        "## Functions You Write"
      ],
      "metadata": {
        "id": "OYrfcfCOSv3H"
      }
    },
    {
      "cell_type": "markdown",
      "source": [
        "Import libraries in code box below. We have done `random` for you."
      ],
      "metadata": {
        "id": "mS1RKi91G6rC"
      }
    },
    {
      "cell_type": "code",
      "source": [
        "import string\n",
        "import random"
      ],
      "metadata": {
        "id": "pUL186ujHCR_"
      },
      "execution_count": null,
      "outputs": []
    },
    {
      "cell_type": "markdown",
      "source": [
        "### Initialize Boats Functions\n",
        "\n",
        "There are two functions for initializing boats\n",
        "\n",
        "`init_boats()`: This function initializes the player's boats. This function must go through each of the four boats in the order of size 4, size 3, size 3, and size 2, and ask the player where they would like to place each boat. You may go about this how you would like, but we recommend:\n",
        "\n",
        "  *   Loop over each boat using a list of the boat sizes\n",
        "      *   Display the player's board\n",
        "      *   Ask the player for a position for one end of their boat\n",
        "      *   Teams of 3:\n",
        "          * Validate the boat fits on either the left or right side of the input position using `validate_boat()`. Be sure to always pass in `True` so \"horizontal\" is the orientation.\n",
        "          * **Remember**: teams of 3 do not have to error check input, so when testing, make sure you are entering valid positions for left or right, otherwise your code may break.\n",
        "      \n",
        "      *  Teams of 4:\n",
        "          * ask if the player would like to place the boat horizontally or vertically (error check that input until given `horizontal` or `vertical`)\n",
        "          * Check both sides of that orientation to see if the boat fits.\n",
        "          * **Remember**: teams of 4 must error check, so if neither side of the orientation works, ask the user for a new position and orientation. Loop until given a valid position.\n",
        "\n",
        "      * Upon validating a boat location, you must update the player's board with the boat (Note: it might be a good idea to create a helper function to place the boats on the board.)\n",
        "\n",
        "  * A valid position would be within the bounds of the board and the boats do not overlap\n",
        "\n",
        "  * **Inputs**: Player's board\n",
        "  * **Outputs**: None\n",
        "  * **SEE APPENDIX C** for example of positioning boats.\n",
        "\n",
        "\n",
        "      \n",
        "\n"
      ],
      "metadata": {
        "id": "OG5XAqUZmtm7"
      }
    },
    {
      "cell_type": "code",
      "source": [
        "def init_boats(player_board):\n",
        "  \"\"\"TODO: replace with short description of function.\"\"\"\n",
        "  # TODO: Write init_boats() function\n",
        "  return\n"
      ],
      "metadata": {
        "id": "bji8uzE2oOHI"
      },
      "execution_count": null,
      "outputs": []
    },
    {
      "cell_type": "code",
      "source": [
        "# Test init_boats() here!"
      ],
      "metadata": {
        "id": "3gjXmS-FFb4w"
      },
      "execution_count": null,
      "outputs": []
    },
    {
      "cell_type": "markdown",
      "source": [
        "`init_boats_random()`: This function initializes the computer's boats randomly. You may go through this function how you would like, but we recommend:\n",
        "  * Loop over each boat\n",
        "    * Loop until given valid random position\n",
        "      * Get random location using the `random` library\n",
        "      * Validate horizontal orientation\n",
        "        * if valid, use horizontal\n",
        "      * Otherwise, validate vertical orientation\n",
        "        * if valid, use vertical\n",
        "      * If neither are valid, get new random location\n",
        "\n",
        "    * Update computer's board with boat\n",
        "  * **See Appendix A** for more information about the `random` library\n",
        "  * **Inputs:** Computer Board\n",
        "  * **Outputs:** None"
      ],
      "metadata": {
        "id": "Q4CStIinCAv2"
      }
    },
    {
      "cell_type": "code",
      "source": [
        "def init_boats_random(computer_board):\n",
        "  \"\"\"TODO: replace with short description of function.\"\"\"\n",
        "  # TODO: Write init_boats_random()\n",
        "  return\n"
      ],
      "metadata": {
        "id": "v2D-JPEEoQF7"
      },
      "execution_count": null,
      "outputs": []
    },
    {
      "cell_type": "code",
      "source": [
        "# Test init_boats_random() here!"
      ],
      "metadata": {
        "id": "oC1mYfIeFfGV"
      },
      "execution_count": null,
      "outputs": []
    },
    {
      "cell_type": "markdown",
      "source": [
        "### Check Guess Function (Teams of 4)\n",
        "\n",
        "`check_guess()` will check if a guess made by either the computer or player is a valid guess. In order for a guess to be valid, it must be within the bounds of the board, and it must not have been guessed before. The input to this function is the board where the guess is being made. If the guess is valid, update the board and return `True`, otherwise, do not update the board and return `False` instead."
      ],
      "metadata": {
        "id": "iVW4wSC4mt3y"
      }
    },
    {
      "cell_type": "code",
      "source": [
        "def check_guess(current_opponent_board : list, guess):\n",
        "  \"\"\"TODO: replace with short description of function.\"\"\"\n",
        "  # TODO: Write check_guess()\n",
        "  index = [\"A1\", \"A2\", \"A3\", \"A4\", \"A5\", \"B1\", \"B2\", \"B3\", \"B4\", \"B5\", \"C1\", \"C2\",\"C3\", \"C4\", \"C5\", \"D1\",\"D2\",\"D3\",\"D4\",\"D5\",\"E1\",\"E2\",\"E3\",\"E4\",\"E5\"]\n",
        "  if guess in index :\n",
        "    [row,col] = convert_to_index(guess) # convert guess to index\n",
        "    if 0 <= row and row < 5 and 0 <= col and col < 5 :\n",
        "      if current_oppnenet_board(row,col) == \" \":\n",
        "        current_oppnenet_board(row,col) == \"O\" #miss\n",
        "        return True\n",
        "      elif current_oppnenet_board(row,col) == \"*\":\n",
        "        current_oppnenet_board(row,col) == \"X\" # hit\n",
        "        return True\n",
        "      elif current_oppnenet_board(row,col) == \"O\":\n",
        "        return False\n",
        "      elif current_oppnenet_board(row,col) == \"X\":\n",
        "        return False"
      ],
      "metadata": {
        "id": "9RZAB45BoPc7"
      },
      "execution_count": null,
      "outputs": []
    },
    {
      "cell_type": "code",
      "source": [
        "# Test check_guess() here!"
      ],
      "metadata": {
        "id": "XfkGPC66Fh9N"
      },
      "execution_count": null,
      "outputs": []
    },
    {
      "cell_type": "markdown",
      "source": [
        "### Check For Winner Function\n",
        "\n",
        "The input to this function is a game board - either the player's or the computer's - you must go through this board and determine if all the boats have sunk. `return True` if all boats are sunk, or `return False` if not.\n",
        "\n",
        "**Hint: Think about how you can use the board key to determine this?**"
      ],
      "metadata": {
        "id": "IoFbGs0GmtvM"
      }
    },
    {
      "cell_type": "code",
      "source": [
        "def check_for_winner(board):\n",
        "  \"\"\"TODO: replace with short description of function.\"\"\"\n",
        "  # TODO: Write check_for_winner()\n",
        "\n",
        "# Checks through column\n",
        "  for col in board:\n",
        "\n",
        "    # Checks for any remaining boats within columns, return false if there is.\n",
        "    if '*' in col:\n",
        "     return False\n",
        "\n",
        "  return True\n",
        "\n",
        "\n",
        "# Checks through row\n",
        "  for row in board:\n",
        "\n",
        "     #Checks any remaining boats between rows, and returns false if it encounters one.\n",
        "    if '*' in row:\n",
        "      return False\n",
        "\n",
        "  return True\n",
        "\n",
        "\n",
        "\n",
        "\n",
        "\n",
        "\n"
      ],
      "metadata": {
        "id": "7mbEt6_LoNIw"
      },
      "execution_count": null,
      "outputs": []
    },
    {
      "cell_type": "code",
      "source": [
        "def check_for_winner(board):\n",
        "  for rows in board:\n",
        "\n",
        "    if '*' in board:\n",
        "      return False\n",
        "\n",
        "  return True"
      ],
      "metadata": {
        "id": "DSa7_EywWI5x"
      },
      "execution_count": null,
      "outputs": []
    },
    {
      "cell_type": "code",
      "source": [
        "# Test check_for_winner() here!\n",
        "\n",
        "sample_grid1 = [[\" \", \"*\", \"*\", \" \", \" \"],\n",
        "               [\"X\", \"O\", \" \", \" \", \" \"],\n",
        "               [\"*\", \" \", \"X\", \"X\", \"X\"],\n",
        "               [\"*\", \" \", \" \", \" \", \" \"],\n",
        "               [\" \", \" \", \" \", \" \", \" \"]]\n",
        "\n",
        "sample_grid2 = [[\" \", \"\", \"\", \" \", \" \"],\n",
        "               [\"X\", \"O\", \" \", \" \", \" \"],\n",
        "               [\"\", \" \", \"X\", \"X\", \"X\"],\n",
        "               [\"\", \" \", \" \", \" \", \" \"],\n",
        "               [\" \", \" \", \" \", \" \", \" \"]]\n",
        "\n",
        "sample_grid3 = [[\" \", \"X\", \"X\", \" \", \" \"],\n",
        "               [\"X\", \"O\", \" \", \" \", \" \"],\n",
        "               [\"O\", \" \", \"X\", \"X\", \"X\"],\n",
        "               [\"O\", \" \", \" \", \" \", \" \"],\n",
        "               [\" \", \" \", \" \", \" \", \" \"]]\n",
        "\n",
        "print(check_for_winner(sample_grid1))\n",
        "print(check_for_winner(sample_grid2))\n",
        "print(check_for_winner(sample_grid3))"
      ],
      "metadata": {
        "id": "7-Y0kV_GFmRc",
        "colab": {
          "base_uri": "https://localhost:8080/"
        },
        "outputId": "0a8ee83e-5ad6-4f65-9f71-bd72df843113"
      },
      "execution_count": null,
      "outputs": [
        {
          "output_type": "stream",
          "name": "stdout",
          "text": [
            "False\n",
            "True\n",
            "True\n"
          ]
        }
      ]
    },
    {
      "cell_type": "markdown",
      "source": [
        "### Autoplay Function\n",
        "\n",
        "This function is where the computer will play it's turn. The computer will make a guess next to a hit (\"X\"). It should pick a valid position around the hit. If no valid position around the hit, continuing checking for a valid position around every hit spot until one is found or if there are none left (or to begin with), the computer will make a random guess.\n"
      ],
      "metadata": {
        "id": "U7By7PWaATvM"
      }
    },
    {
      "cell_type": "code",
      "source": [],
      "metadata": {
        "id": "_az7KMF8Ov3g"
      },
      "execution_count": null,
      "outputs": []
    },
    {
      "cell_type": "code",
      "source": [
        "\n",
        "# rows = \"ABCDE\"\n",
        "# cols = \"12345\"\n",
        "# check \"x\" in player_board\n",
        "# check \"o\" in player_board\n",
        "# slice a list of index with o\n",
        "# if x is present\n",
        "# slice a list of index with x\n",
        "# find positions that are possible next guesses\n",
        "# remove x and o in the possible guess\n",
        "# pick random guess\n",
        "# if possible guess is 0 or no x present\n",
        "# slice a list of index without o present\n",
        "# choose a random number\n",
        "# return rows[random.choice(index)//5] + cols[random.choice(index) %5]\n",
        "def findMoves(player_board : list):\n",
        "  position = 0\n",
        "\n",
        "  hit_boat = [] # index of x\n",
        "  miss = [] # index of o\n",
        "  possible_index = [] # index if no x present or no position next to x available\n",
        "  #if \"X\" in player_board or \"O\" in player_board:\n",
        "  for i in player_board: # each row in player_board\n",
        "    for j in i: # each str element in each row\n",
        "      position += 1\n",
        "      if j == \"X\":\n",
        "          hit_boat.append (position)\n",
        "      elif j == \"O\":\n",
        "          miss.append(position)\n",
        "      else :\n",
        "          possible_index.append(position) # the player has not hit this position\n",
        "       # increase col index\n",
        "  print(hit_boat, miss, possible_index)\n",
        "  return hit_boat, miss, possible_index\n",
        "def possible_hits(hit_boat, miss, possible_index):\n",
        "  computer_move = []\n",
        "  if len(hit_boat) == 0 : # if no X\n",
        "      num = random.choice(possible_index)\n",
        "      print (num)\n",
        "      return num # choose a random spot that's not X or O\n",
        "  for index in hit_boat:\n",
        "    if index not in [4, 9, 14, 19, 24] : # these index do not have a point to the right\n",
        "      computer_move.append(index + 1)\n",
        "    if index not in [0, 5, 10, 15, 20] :# these index do not have a point to the left\n",
        "      computer_move.append(index - 1)\n",
        "    if index not in [0, 1,2,3, 4]: # these index do not have a point on its top\n",
        "      computer_move.append(index - 5)\n",
        "    if index not in [20,21,22,23,24]: # these index do not have a point under it\n",
        "      computer_move.append(index + 5 )\n",
        "    computer_move = list(dict.fromkeys(computer_move)) # the fromkey function remove duplicate variables in possible_index\n",
        "    for i in computer_move:\n",
        "      if i < 1 or i > 25:\n",
        "        computer_move.remove(i) # use .remove() to remove the element with value of i\n",
        "      if i in hit_boat or i in miss:\n",
        "        computer_move.remove(i)\n",
        "    if len(computer_move) == 0 : # if no possible spot next to X\n",
        "      num = random.choice(possible_index)\n",
        "      print (num)\n",
        "      return num # choose a random spot that's not X or O\n",
        "    else:\n",
        "      num = random.choice(computer_move)\n",
        "      print (num)\n",
        "      return num\n",
        "#random.choice(string.ascii_letters)\n",
        "\n",
        "def autoplay(player_board):\n",
        "  # make a board coord of the Xs and Os\n",
        "  index = [\"A1\", \"A2\", \"A3\", \"A4\", \"A5\", \"B1\", \"B2\", \"B3\", \"B4\", \"B5\", \"C1\", \"C2\",\"C3\", \"C4\", \"C5\", \"D1\",\"D2\",\"D3\",\"D4\",\"D5\",\"E1\",\"E2\",\"E3\",\"E4\",\"E5\"]\n",
        "  # need to figure how to convert position to index\n",
        "  [hit_boat, miss, possible_index] = findMoves(player_board)\n",
        "  coords = possible_hits(hit_boat, miss, possible_index) - 1\n",
        "  return index[coords] # return the coordinate in standard form\n",
        "  \"\"\"TODO: replace with short description of function.\"\"\"\n",
        "  # the function randomly chooses a coordinate if no\n",
        "  # TODO: Write autoplay()\n",
        "  # returns a coordinate\n",
        "  # if player1 used autoplay,\n"
      ],
      "metadata": {
        "id": "4Fwb8C9WTIlM"
      },
      "execution_count": null,
      "outputs": []
    },
    {
      "cell_type": "code",
      "source": [
        "# Test autoplay() here!\n",
        "sample_grid1 = [[\" \", \"*\", \"*\", \" \", \" \"],\n",
        "               [\"X\", \"O\", \" \", \" \", \" \"],\n",
        "               [\"*\", \" \", \"X\", \"X\", \"X\"],\n",
        "               [\"*\", \" \", \" \", \" \", \" \"],\n",
        "               [\" \", \" \", \" \", \" \", \" \"]]\n",
        "position = autoplay(sample_grid1)\n",
        "print (position)"
      ],
      "metadata": {
        "id": "5Rb8Xy_oFqOC",
        "colab": {
          "base_uri": "https://localhost:8080/"
        },
        "outputId": "b1ef97dc-2cf3-48e1-e258-ad1570f84ecb"
      },
      "execution_count": null,
      "outputs": [
        {
          "output_type": "stream",
          "name": "stdout",
          "text": [
            "[6, 13, 14, 15] [7] [1, 2, 3, 4, 5, 8, 9, 10, 11, 12, 16, 17, 18, 19, 20, 21, 22, 23, 24, 25]\n",
            "1\n",
            "A1\n"
          ]
        }
      ]
    },
    {
      "cell_type": "markdown",
      "source": [
        "### Main Function\n",
        "\n",
        "This will be the function you call to play the whole game from start to finish. You will call the other functions you made within this function along with writing some additional functionality. The overall structure of the game is listed in the project description, but is also pasted below for convenience.\n",
        "\n",
        "1.   Beginning of game announcements and initialize necessary variables\n",
        "2.   Each player initializes their grid with boats\n",
        "3.   Player makes a guess. (teams of 4: Error check that guess)\n",
        "4.   Update grids with guess\n",
        "5.   Switch player\n",
        "6.   Repeat steps 3-5 until a player has won (meaning all 12 spots are hit)\n",
        "7.   Announce winner\n",
        "8.   Play games until the user wants to quit\n",
        "\n",
        "\n",
        "Additionally, there are no inputs or outputs (besides print statements) to this function.\n",
        "\n",
        "**Remember**: to display the appropriate boards at the appropriate times and to also include print statements for the game play.\n",
        "\n"
      ],
      "metadata": {
        "id": "oDC0o0hFmtQx"
      }
    },
    {
      "cell_type": "code",
      "source": [
        "def main():\n",
        "  \"\"\"TODO: replace with short description of function.\"\"\"\n",
        "  # TODO: Write main()\n",
        "\n",
        "  # Announce the game, and initialize the variables\n",
        "\n",
        "  # Each individual places their boats within their grid\n",
        "\n",
        "  # Player makes a move\n",
        "def check_guess(current_opponent_board : list, guess):\n",
        "def autoplay()\n",
        "\n",
        "  # Updates the grid with the player's move\n",
        "\n",
        "  # Switches the move ability to other player\n",
        "\n",
        "  # Reptetion of this until someone wins\n",
        "\n",
        "  # Announce the winner\n",
        "def check_for_winner(board):\n",
        "\n",
        "  # Play infinite amount of games until players choose to quit\n",
        "\n",
        "\n",
        "\n",
        "  return\n",
        "\n"
      ],
      "metadata": {
        "id": "F70CTkm-nhW2"
      },
      "execution_count": null,
      "outputs": []
    },
    {
      "cell_type": "code",
      "source": [
        "# Run the full game here\n",
        "main()"
      ],
      "metadata": {
        "id": "iSppdzoAFtIb"
      },
      "execution_count": null,
      "outputs": []
    },
    {
      "cell_type": "code",
      "source": [
        "\n",
        "\n",
        "#players set up board\n",
        "#check if the board is valid\n",
        "# if not , do it again\n",
        "while not :\n",
        "while (not check_for_winners(board1)) and (not check_for_winners(board2)):\n",
        "\n",
        "  #iterate every round\n",
        "  #check if need to use autoplay"
      ],
      "metadata": {
        "id": "-jzmIkkPuT3E"
      },
      "execution_count": null,
      "outputs": []
    },
    {
      "cell_type": "markdown",
      "source": [
        "# Appendix\n",
        "\n",
        "## Appendix A\n",
        "\n",
        "### Using the `random` library\n",
        "\n",
        "The random library can generate random numbers for us. To use it, you `import random`. The `choice()` function will pick a random item from the list. Here is an example of it being used below.\n",
        "\n",
        "```\n",
        "import random\n",
        "\n",
        "x = [\"list\", \"of\", \"random\", \"things]\n",
        "item = random.choice(x)\n",
        "```\n",
        "\n",
        "\n",
        "You may use whatever `random` function you would like. We recommend taking a look around the library's functions and linked the library [here](https://docs.python.org/3/library/random.html).\n",
        "\n",
        "<br>\n",
        "\n",
        "## Appendix B\n",
        "\n",
        "### Dictionary functions examples\n",
        "\n",
        "* `dict.items()`: when calling this function on a dictionary, it will return all the key and value pairs in that dictionary.\n",
        "\n",
        "* `dict.keys()`: when calling this function on a dictionary, it will return all the keys in that dictionary\n",
        "\n",
        "* `dict.values()`: when calling this function on a dictionary, it will return all the values in that dictionary\n",
        "\n",
        "<br>\n",
        "\n",
        "## Appendix C\n",
        "\n",
        "### Boat positioning example\n",
        "\n",
        "Let's say this is your grid:\n",
        "\n",
        "```\n",
        "  1 2 3 4 5\n",
        "A| | | | | |\n",
        "B| | | | | |\n",
        "C| | | | | |\n",
        "D| | | | | |\n",
        "E| | | | | |\n",
        "\n",
        "```\n",
        "\n",
        "And you want to place a size 3 at the position \"B2\". The position is included when fitting the boat. So...\n",
        "\n",
        "The boat can fit to the \"right\":\n",
        "\n",
        "```\n",
        "  1 2 3 4 5\n",
        "A| | | | | |\n",
        "B| |*|*|*| |\n",
        "C| | | | | |\n",
        "D| | | | | |\n",
        "E| | | | | |\n",
        "\n",
        "```\n",
        "or it can fit \"down\":\n",
        "\n",
        "```\n",
        "  1 2 3 4 5\n",
        "A| | | | | |\n",
        "B| |*| | | |\n",
        "C| |*| | | |\n",
        "D| |*| | | |\n",
        "E| | | | | |\n",
        "\n",
        "```\n",
        "but it cannot fit \"up\" or to the \"left\", because it is too big\n",
        "\n",
        "## Appendix D\n",
        "\n",
        "### Testing Functions\n",
        "Testing if very critical in computer science to ensure your functions and program work as planned! While we are not requiring you to run tests on your functions, it will be very helpful when it comes to debugging and making sure your battleship game works.\n",
        "\n",
        "Sometimes it can be hard to tell where you are going wrong when you run the game all at once. If you test each individual function on it's own it can be easier to identify issues.\n",
        "\n",
        "Test cases should cover general cases and edge cases. General cases cover typical inputs and ways you would expect the function to run. Edge cases cover the more rarer possibilites. teams of 3 will mostly only have to test general cases, and teams of 4 should test both.\n",
        "\n",
        "You should write your test cases before you write your functions. It will be helpful to think about your expected functionality first before you actually write it.\n",
        "\n",
        "Head to the display_board() helper function to see an example of testing\n",
        "\n",
        "See your instructors if you have further questions."
      ],
      "metadata": {
        "id": "Zqb00EFrB7yo"
      }
    },
    {
      "cell_type": "code",
      "source": [
        "# edge cases and general cases"
      ],
      "metadata": {
        "id": "ICqjA1hQzZlh"
      },
      "execution_count": null,
      "outputs": []
    }
  ]
}